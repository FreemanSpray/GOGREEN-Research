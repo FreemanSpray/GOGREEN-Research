{
 "cells": [
  {
   "cell_type": "markdown",
   "id": "307676e2",
   "metadata": {},
   "source": [
    "# KU Galaxy Evolution Group - Spring 2022\n",
    "## Christian Harris"
   ]
  },
  {
   "cell_type": "code",
   "execution_count": 1,
   "id": "f2ede74f",
   "metadata": {},
   "outputs": [],
   "source": [
    "# Imports\n",
    "\n",
    "import numpy as np\n",
    "\n",
    "import matplotlib.pyplot as plt\n",
    "import matplotlib.ticker as plticker\n",
    "# Show plots inline\n",
    "%matplotlib inline \n",
    "\n",
    "from astropy.table import Table\n",
    "from astropy.io import fits, ascii\n",
    "from astropy import units as u\n",
    "from astropy.coordinates import SkyCoord\n",
    "\n",
    "import pandas as pd \n",
    "pd.set_option('display.max_columns', 500) # Is this needed?"
   ]
  },
  {
   "cell_type": "code",
   "execution_count": 2,
   "id": "48bbbd7e",
   "metadata": {},
   "outputs": [],
   "source": [
    "# Path Definitions\n",
    "\n",
    "root = '/home/astrobits/school/research/data/'\n",
    "version = 'DR1/'\n",
    "dirr  =  root + version\n",
    "\n",
    "catdir = dirr + 'CATS/'\n",
    "photdir = dirr + 'PHOTOMETRY/'"
   ]
  },
  {
   "cell_type": "code",
   "execution_count": 3,
   "id": "ba02f76b",
   "metadata": {},
   "outputs": [],
   "source": [
    "# Define Cosmology\n",
    "\n",
    "from astropy.cosmology import FlatLambdaCDM\n",
    "cosmo = FlatLambdaCDM(H0=70, Om0=0.3)"
   ]
  },
  {
   "cell_type": "markdown",
   "id": "d7fadb91",
   "metadata": {},
   "source": [
    "# Function Definitions"
   ]
  },
  {
   "cell_type": "code",
   "execution_count": 4,
   "id": "645ad669",
   "metadata": {},
   "outputs": [],
   "source": [
    "def ABmag(fluxValues, zeroPoint):\n",
    "    return (-2.5)*np.log10(fluxValues) + zeroPoint"
   ]
  },
  {
   "cell_type": "markdown",
   "id": "652a7a01",
   "metadata": {},
   "source": [
    "# Import Catalogs"
   ]
  },
  {
   "cell_type": "markdown",
   "id": "9693ae78",
   "metadata": {},
   "source": [
    "## Clusters.fits\n",
    "Information about each of the 26 $\\underline{clusters}$"
   ]
  },
  {
   "cell_type": "code",
   "execution_count": 5,
   "id": "d88e8520",
   "metadata": {
    "scrolled": true
   },
   "outputs": [
    {
     "name": "stdout",
     "output_type": "stream",
     "text": [
      "Index(['cluster', 'fullname', 'cluster_id', 'RA_Best', 'DEC_Best', 'RA_GMOS',\n",
      "       'DEC_GMOS', 'PA_deg', 'Redshift', 'vdisp', 'vdisp_err', 'gogreen_m1',\n",
      "       'gogreen_m2', 'gogreen_m3', 'gogreen_m4', 'gogreen_m5', 'gogreen_m6',\n",
      "       'gclass_m1', 'gclass_m2', 'gclass_m3', 'gclass_m4', 'gclass_m5',\n",
      "       'Kphot_cat', 'photoz_cat', 'stelmass_cat', 'IMAGE_U', 'IMAGE_B',\n",
      "       'IMAGE_G', 'IMAGE_V', 'IMAGE_R', 'IMAGE_I', 'IMAGE_Z', 'IMAGE_J',\n",
      "       'IMAGE_J1', 'IMAGE_Y', 'IMAGE_K', 'IMAGE_IRAC1', 'Preimage'],\n",
      "      dtype='object')\n"
     ]
    }
   ],
   "source": [
    "clusters = catdir + 'Clusters.fits'\n",
    "\n",
    "# Clusters.fits -> Astropy Table -> Pandas Dataframe\n",
    "cluster_table = Table( fits.getdata( clusters ) ).to_pandas() \n",
    "cluster_table['cluster'] = cluster_table['cluster'].str.rstrip().values # remove unnecessary spaces\n",
    "\n",
    "print(cluster_table.columns)"
   ]
  },
  {
   "cell_type": "markdown",
   "id": "dea7a3fa",
   "metadata": {},
   "source": [
    "## Photo.fits\n",
    "$\\underline{Merged}$ photometric catalogue"
   ]
  },
  {
   "cell_type": "code",
   "execution_count": 6,
   "id": "6b627aba",
   "metadata": {},
   "outputs": [
    {
     "name": "stdout",
     "output_type": "stream",
     "text": [
      "Index(['Cluster', 'cPHOTID', 'SPECID', 'ra', 'dec', 'zspec',\n",
      "       'Redshift_Quality', 'zphot', 'zphot_l68', 'zphot_u68', 'UMINV', 'VMINJ',\n",
      "       'Star', 'K_flag', 'totmask', 'Mstellar', 'u_tot', 'g_tot', 'r_tot',\n",
      "       'i_tot', 'z_tot', 'y_tot', 'V_tot', 'B_tot', 'J_tot', 'H_tot', 'K_tot',\n",
      "       'Ks_tot', 'IRAC1_tot', 'IRAC2_tot', 'IRAC3_tot', 'IRAC4_tot',\n",
      "       'IA484_tot', 'IA527_tot', 'IA624_tot', 'IA679_tot', 'IA738_tot',\n",
      "       'IA767_tot', 'IB427_tot', 'IB464_tot', 'IB505_tot', 'IB574_tot',\n",
      "       'IB709_tot', 'IB827_tot', 'fuv_tot', 'nuv_tot', 'mips24_tot', 'eu_tot',\n",
      "       'eg_tot', 'er_tot', 'ei_tot', 'ez_tot', 'ey_tot', 'eV_tot', 'eB_tot',\n",
      "       'eJ_tot', 'eH_tot', 'eK_tot', 'eKs_tot', 'eIRAC1_tot', 'eIRAC2_tot',\n",
      "       'eIRAC3_tot', 'eIRAC4_tot', 'eIA484_tot', 'eIA527_tot', 'eIA624_tot',\n",
      "       'eIA679_tot', 'eIA738_tot', 'eIA767_tot', 'eIB427_tot', 'eIB464_tot',\n",
      "       'eIB505_tot', 'eIB574_tot', 'eIB709_tot', 'eIB827_tot', 'efuv_tot',\n",
      "       'enuv_tot', 'emips24_tot'],\n",
      "      dtype='object')\n"
     ]
    }
   ],
   "source": [
    "photfile = catdir + 'Photo.fits'\n",
    "\n",
    "# Photo.fits -> Astropy Table -> Pandas Dataframe\n",
    "phot_table = Table( fits.getdata(photfile) ).to_pandas()\n",
    "\n",
    "print(phot_table.columns)"
   ]
  },
  {
   "cell_type": "markdown",
   "id": "5e5ed169",
   "metadata": {},
   "source": [
    "## Redshift_catalogue.fits\n",
    "Redshift catalogue with one entry for each $\\underline{spectrum}$"
   ]
  },
  {
   "cell_type": "code",
   "execution_count": 7,
   "id": "9d997d56",
   "metadata": {
    "scrolled": true
   },
   "outputs": [
    {
     "name": "stdout",
     "output_type": "stream",
     "text": [
      "Index(['Cluster', 'SPECID', 'RA(J2000)', 'DEC(J2000)', 'OBJClass', 'Redshift',\n",
      "       'Redshift_Quality', 'EXTVER', 'Spec_Flag', 'SNR_8500_VAR',\n",
      "       'SNR_8500_RMS', 'D4000', 'eD4000', 'EWOII', 'eEWOII', 'EWHdelta',\n",
      "       'eEWHdelta', 'EWOII_model', 'eEWOII_model', 'F_OII', 'eF_OII',\n",
      "       'SFR_OII', 'eSFR_OII', 'delta_BIC', 'member_Clean', 'member_EM',\n",
      "       'member'],\n",
      "      dtype='object')\n"
     ]
    }
   ],
   "source": [
    "zcatfile = catdir + 'Redshift_catalogue.fits'\n",
    "\n",
    "# Redshift_catalogue.fits -> Astropy Table -> Pandas Dataframe\n",
    "redshift_table = Table( fits.getdata( zcatfile ) ).to_pandas() \n",
    "redshift_table['Cluster'] = redshift_table['Cluster'].str.rstrip().values # remove unnecessary spaces\n",
    "\n",
    "print (redshift_table.columns)"
   ]
  },
  {
   "cell_type": "markdown",
   "id": "06210893",
   "metadata": {},
   "source": [
    "# Plots"
   ]
  },
  {
   "cell_type": "markdown",
   "id": "624a0fff",
   "metadata": {},
   "source": [
    "### 1) Histogram of K-band magnitudes from Photo.fits"
   ]
  },
  {
   "cell_type": "code",
   "execution_count": 13,
   "id": "f9d30c3d",
   "metadata": {
    "scrolled": true
   },
   "outputs": [
    {
     "data": {
      "image/png": "[encoded data removed]",
      "text/plain": [
       "<Figure size 432x288 with 1 Axes>"
      ]
     },
     "metadata": {
      "needs_background": "light"
     },
     "output_type": "display_data"
    }
   ],
   "source": [
    "# Define cluster of interest\n",
    "targetCluster = 'SPT2106'\n",
    "\n",
    "# From targetCluster\n",
    "# Select all galaxies (Star==0)\n",
    "# That have a K-band flux (Ks_tot)\n",
    "# With an image in each filter (totmask==0)\n",
    "# And measurement using SExtractor (K_flag==0)\n",
    "kFlux = phot_table.query('Cluster==@targetCluster and Star==0 and K_flag==0 and totmask==0')['Ks_tot'].dropna().values\n",
    "\n",
    "# Calculate the magnitude of each galaxy, excluding those with negative flux\n",
    "kMag = ABmag(kFlux[kFlux > 0], 25)\n",
    "\n",
    "# Plot the histogram\n",
    "fig = plt.figure()\n",
    "plt.hist(kMag, bins=50, color='k')\n",
    "plt.title('K-band Magnitude Histogram')\n",
    "plt.xlabel('Magnitude (AB)')\n",
    "plt.ylabel('N')\n",
    "plt.show()"
   ]
  },
  {
   "cell_type": "markdown",
   "id": "f7235228",
   "metadata": {},
   "source": [
    "### 2) Histogram of SPT2106 redshifts\n",
    "Using spectroscopic where available and photometric otherwise"
   ]
  },
  {
   "cell_type": "code",
   "execution_count": 33,
   "id": "178c66a9",
   "metadata": {},
   "outputs": [
    {
     "name": "stdout",
     "output_type": "stream",
     "text": [
      "Number of excluded points (z>3):  20\n"
     ]
    },
    {
     "data": {
      "image/png": "[encoded data removed]",
      "text/plain": [
       "<Figure size 432x288 with 1 Axes>"
      ]
     },
     "metadata": {
      "needs_background": "light"
     },
     "output_type": "display_data"
    }
   ],
   "source": [
    "### GET CLUSTER REDSHIFT DATA ###\n",
    "\n",
    "# Define cluster property of interest\n",
    "targetProperty = 'Redshift'\n",
    "\n",
    "# Find the value of targetProperty for targetCluster\n",
    "clusterZ = cluster_table.query('cluster==@targetCluster')[targetProperty].values\n",
    "\n",
    "## GET GALAXY REDSHIFT DATA\n",
    "\n",
    "# Select the galaxies within targetCluster with spectroscopic redshifts\n",
    "galSpecZ = phot_table.query('Cluster==@targetCluster and Star==0 and K_flag==0 and totmask==0')['zspec'].dropna().values\n",
    "\n",
    "# Select the galaxies within targetCluster with photometric redshifts (but no spectroscopic)\n",
    "galPhotZ = phot_table.query('Cluster==@targetCluster and Star==0 and K_flag==0 and totmask==0 and zspec.isnull()')['zphot'].dropna().values\n",
    "\n",
    "# Information regarding excluded points\n",
    "print('Number of excluded points (z>3): ', len(galSpecZ[galSpecZ > 3])+len(galPhotZ[galPhotZ > 3]))\n",
    "\n",
    "# Plot the histogram\n",
    "fig = plt.figure()\n",
    "plt.hist(galSpecZ, bins=50, color='r', label='Spectroscopic z')\n",
    "plt.hist(galPhotZ, bins=50, alpha=0.5, color='b', label='Photometric z')\n",
    "plt.title('SPT2106 Redshift Histogram')\n",
    "plt.axvline(clusterZ+0.08, c='k', linestyle='dashed', linewidth=1, label='+- 0.08 Cluster z')\n",
    "plt.axvline(clusterZ-0.08, c='k', linestyle='dashed', linewidth=1,)\n",
    "plt.xlabel('Redshift (z)')\n",
    "plt.xlim(0,3)\n",
    "plt.ylabel('N')\n",
    "plt.legend(fontsize='large')\n",
    "plt.show()"
   ]
  }
 ],
 "metadata": {
  "kernelspec": {
   "display_name": "Python 3 (ipykernel)",
   "language": "python",
   "name": "python3"
  },
  "language_info": {
   "codemirror_mode": {
    "name": "ipython",
    "version": 3
   },
   "file_extension": ".py",
   "mimetype": "text/x-python",
   "name": "python",
   "nbconvert_exporter": "python",
   "pygments_lexer": "ipython3",
   "version": "3.9.7"
  }
 },
 "nbformat": 4,
 "nbformat_minor": 5
}
