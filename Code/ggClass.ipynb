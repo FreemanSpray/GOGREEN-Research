{
 "cells": [
  {
   "cell_type": "markdown",
   "id": "d9ea0b54",
   "metadata": {},
   "source": [
    "# Import GOGREEN class"
   ]
  },
  {
   "cell_type": "code",
   "execution_count": 14,
   "id": "d9852d04",
   "metadata": {},
   "outputs": [
    {
     "data": {
      "text/plain": [
       "{'path': 'Path to directory containing DR1/ and STRUCTURAL_PARA_v1.1_CATONLY/ directories',\n",
       " 'return': 'GOGREEN DATA OBJECT'}"
      ]
     },
     "execution_count": 14,
     "metadata": {},
     "output_type": "execute_result"
    }
   ],
   "source": [
    "%run GOGREEN.py\n",
    "\n",
    "# Class initialization information\n",
    "GOGREEN.__init__.__annotations__"
   ]
  },
  {
   "cell_type": "markdown",
   "id": "04afa5d7",
   "metadata": {},
   "source": [
    "# Create instance of GOGREEN class"
   ]
  },
  {
   "cell_type": "code",
   "execution_count": 15,
   "id": "89e3d93c",
   "metadata": {},
   "outputs": [],
   "source": [
    "path = '/home/astrobits/school/research/data/'\n",
    "gg = GOGREEN(path)"
   ]
  }
 ],
 "metadata": {
  "kernelspec": {
   "display_name": "Python 3 (ipykernel)",
   "language": "python",
   "name": "python3"
  },
  "language_info": {
   "codemirror_mode": {
    "name": "ipython",
    "version": 3
   },
   "file_extension": ".py",
   "mimetype": "text/x-python",
   "name": "python",
   "nbconvert_exporter": "python",
   "pygments_lexer": "ipython3",
   "version": "3.9.7"
  }
 },
 "nbformat": 4,
 "nbformat_minor": 5
}
